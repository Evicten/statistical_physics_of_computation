{
 "cells": [
  {
   "cell_type": "markdown",
   "metadata": {},
   "source": [
    "# Graded Homework 1\n",
    "\n",
    "## Part I: The Algorithm\n",
    "\n",
    "### b) Implementing Glauber Dynamics"
   ]
  },
  {
   "cell_type": "code",
   "execution_count": 2,
   "metadata": {},
   "outputs": [],
   "source": [
    "import numpy as np"
   ]
  },
  {
   "cell_type": "markdown",
   "metadata": {},
   "source": [
    "### Initialize a configuration of spins and compute their magnetization and energy"
   ]
  },
  {
   "cell_type": "code",
   "execution_count": 25,
   "metadata": {},
   "outputs": [],
   "source": [
    "def initialize_spins(N):\n",
    "    # Initialize N spins to be 1 or -1\n",
    "    s = np.random.choice([-1, 1], size=(N,1))\n",
    "    return s\n",
    "\n",
    "def compute_magnetization(s):\n",
    "    # s: configuration of spins\n",
    "    return np.mean(s)\n",
    "\n",
    "def compute_energy(s, h):\n",
    "    # s: configuration of spins\n",
    "    # h: external field\n",
    "    N = s.size\n",
    "    m = compute_magnetization(s)\n",
    "    return -N*(1/2*m**2+h*m)\n",
    "\n"
   ]
  },
  {
   "cell_type": "markdown",
   "metadata": {},
   "source": [
    "### "
   ]
  },
  {
   "cell_type": "code",
   "execution_count": 43,
   "metadata": {},
   "outputs": [],
   "source": [
    "def spin_probability(S_bar, beta, h, spin=1):\n",
    "    # set up to -1 if considering a -1 spin\n",
    "    return 1/2*(1+spin*np.tanh(beta*(S_bar+h)))\n",
    "\n",
    "def choose_spin(s):\n",
    "    idx = np.random.choice(s.size)\n",
    "    return idx, s[idx]"
   ]
  },
  {
   "cell_type": "markdown",
   "metadata": {},
   "source": [
    "###"
   ]
  },
  {
   "cell_type": "code",
   "execution_count": null,
   "metadata": {},
   "outputs": [],
   "source": [
    "def glauber_iteration(N, beta, h, max_steps=1000):\n",
    "    s = initialize_spins(N)\n",
    "    \n",
    "    m = compute_magnetization(s)\n",
    "    E = compute_energy(s, h)\n",
    "    idx, spin = choose_spin(s)\n",
    "    r = np.random.uniform(0, 1)\n",
    "    if r < spin_probability(m, beta, h, spin):\n",
    "        s[idx] = 1\n",
    "    else:\n",
    "        s[idx] = 0\n",
    "\n",
    "\n"
   ]
  },
  {
   "cell_type": "code",
   "execution_count": null,
   "metadata": {},
   "outputs": [],
   "source": [
    "s = initialize_spins(N)\n"
   ]
  },
  {
   "cell_type": "code",
   "execution_count": 52,
   "metadata": {},
   "outputs": [
    {
     "name": "stdout",
     "output_type": "stream",
     "text": [
      "0.9468488636019363\n"
     ]
    }
   ],
   "source": [
    "s = initialize_spins(20)\n",
    "print(spin_probability(compute_magnetization(s), 1.2, 1))"
   ]
  },
  {
   "cell_type": "code",
   "execution_count": null,
   "metadata": {},
   "outputs": [],
   "source": []
  }
 ],
 "metadata": {
  "kernelspec": {
   "display_name": "Python 3",
   "language": "python",
   "name": "python3"
  },
  "language_info": {
   "codemirror_mode": {
    "name": "ipython",
    "version": 3
   },
   "file_extension": ".py",
   "mimetype": "text/x-python",
   "name": "python",
   "nbconvert_exporter": "python",
   "pygments_lexer": "ipython3",
   "version": "3.11.4"
  },
  "orig_nbformat": 4
 },
 "nbformat": 4,
 "nbformat_minor": 2
}
